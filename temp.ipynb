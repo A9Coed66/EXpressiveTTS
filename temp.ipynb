{
 "cells": [
  {
   "cell_type": "code",
   "execution_count": 1,
   "metadata": {},
   "outputs": [],
   "source": [
    "import phonecodes\n",
    "from phonecodes.phonecodes import *\n",
    "from phonemizer.backend import EspeakBackend "
   ]
  },
  {
   "cell_type": "code",
   "execution_count": 2,
   "metadata": {},
   "outputs": [],
   "source": [
    "language = \"vie\"\n",
    "\n",
    "if language == \"en\":\n",
    "    g2p_lang = \"en-us\"  # English as spoken in USA\n",
    "    expand_abbreviations = lambda x: x\n",
    "    phonemizer = \"espeak\"\n",
    "elif language == \"vie\":\n",
    "    g2p_lang = \"vi\"  # Northern Vietnamese\n",
    "    expand_abbreviations = lambda x: x\n",
    "    phonemizer = \"espeak\"\n",
    "\n",
    "elif language == \"vi-ctr\":\n",
    "    g2p_lang = \"vi-vn-x-central\"  # Central Vietnamese\n",
    "    expand_abbreviations = lambda x: x\n",
    "    phonemizer = \"espeak\"\n",
    "\n",
    "elif language == \"vi-so\":\n",
    "    g2p_lang = \"vi-vn-x-south\"  # Southern Vietnamese\n",
    "    expand_abbreviations = lambda x: x\n",
    "    phonemizer = \"espeak\"\n",
    "\n",
    "phonemizer_backend = EspeakBackend(language=g2p_lang,\n",
    "                                    punctuation_marks='*;:,.!?¡¿—…()\"«»“”~/。【】、‥،؟“”؛',\n",
    "                                    preserve_punctuation=True,\n",
    "                                    language_switch='remove-flags',\n",
    "                                    with_stress=False)"
   ]
  },
  {
   "cell_type": "code",
   "execution_count": 3,
   "metadata": {},
   "outputs": [
    {
     "data": {
      "text/plain": [
       "(['T',\n",
       "  'ɕ',\n",
       "  'a',\n",
       "  'ː',\n",
       "  'UH',\n",
       "  '2',\n",
       "  ' ',\n",
       "  'B',\n",
       "  'a',\n",
       "  'ː',\n",
       "  '6',\n",
       "  'N',\n",
       "  ',',\n",
       "  ' ',\n",
       "  'T',\n",
       "  '̪',\n",
       "  'o',\n",
       "  'IH',\n",
       "  ' ',\n",
       "  'L',\n",
       "  'a',\n",
       "  'ː',\n",
       "  '2',\n",
       "  ' ',\n",
       "  'P',\n",
       "  'IH',\n",
       "  'K',\n",
       "  'a',\n",
       "  'CH',\n",
       "  'UW',\n",
       "  'ː',\n",
       "  ',',\n",
       "  ' ',\n",
       "  'T',\n",
       "  '̪',\n",
       "  'o',\n",
       "  'IH',\n",
       "  ' ',\n",
       "  'L',\n",
       "  'a',\n",
       "  'ː',\n",
       "  '2',\n",
       "  ' ',\n",
       "  'T',\n",
       "  'ɕ',\n",
       "  'UW',\n",
       "  'AH0',\n",
       "  'ɜ',\n",
       "  ' ',\n",
       "  'HH',\n",
       "  'e',\n",
       "  '2'],\n",
       " [True,\n",
       "  False,\n",
       "  False,\n",
       "  False,\n",
       "  True,\n",
       "  False,\n",
       "  False,\n",
       "  True,\n",
       "  False,\n",
       "  False,\n",
       "  False,\n",
       "  True,\n",
       "  False,\n",
       "  False,\n",
       "  True,\n",
       "  False,\n",
       "  False,\n",
       "  True,\n",
       "  False,\n",
       "  True,\n",
       "  False,\n",
       "  False,\n",
       "  False,\n",
       "  False,\n",
       "  True,\n",
       "  True,\n",
       "  True,\n",
       "  False,\n",
       "  True,\n",
       "  True,\n",
       "  False,\n",
       "  False,\n",
       "  False,\n",
       "  True,\n",
       "  False,\n",
       "  False,\n",
       "  True,\n",
       "  False,\n",
       "  True,\n",
       "  False,\n",
       "  False,\n",
       "  False,\n",
       "  False,\n",
       "  True,\n",
       "  False,\n",
       "  True,\n",
       "  True,\n",
       "  False,\n",
       "  False,\n",
       "  True,\n",
       "  False,\n",
       "  False])"
      ]
     },
     "execution_count": 3,
     "metadata": {},
     "output_type": "execute_result"
    }
   ],
   "source": [
    "word = 'Chào bạn, tôi là pikachu, tôi là chúa hề'\n",
    "phones = phonemizer_backend.phonemize([word], strip=True)[0]\n",
    "phones = translate_string(phones, phonecode_tables._ipa2arpabet)\n",
    "phones"
   ]
  },
  {
   "cell_type": "code",
   "execution_count": 4,
   "metadata": {},
   "outputs": [
    {
     "ename": "TypeError",
     "evalue": "unhashable type: 'list'",
     "output_type": "error",
     "traceback": [
      "\u001b[0;31m---------------------------------------------------------------------------\u001b[0m",
      "\u001b[0;31mTypeError\u001b[0m                                 Traceback (most recent call last)",
      "Cell \u001b[0;32mIn[4], line 1\u001b[0m\n\u001b[0;32m----> 1\u001b[0m \u001b[43mipa2xsampa\u001b[49m\u001b[43m(\u001b[49m\u001b[43mphones\u001b[49m\u001b[43m,\u001b[49m\u001b[43m \u001b[49m\u001b[43mlanguage\u001b[49m\u001b[38;5;241;43m=\u001b[39;49m\u001b[38;5;124;43m'\u001b[39;49m\u001b[38;5;124;43mvie\u001b[39;49m\u001b[38;5;124;43m'\u001b[39;49m\u001b[43m)\u001b[49m\n",
      "File \u001b[0;32m~/.conda/envs/TuanLHA/lib/python3.10/site-packages/phonecodes/phonecodes.py:88\u001b[0m, in \u001b[0;36mipa2xsampa\u001b[0;34m(x, language)\u001b[0m\n\u001b[1;32m     86\u001b[0m \u001b[38;5;28;01mdef\u001b[39;00m \u001b[38;5;21mipa2xsampa\u001b[39m(x, language\u001b[38;5;241m=\u001b[39m\u001b[38;5;28;01mNone\u001b[39;00m):\n\u001b[1;32m     87\u001b[0m \u001b[38;5;250m    \u001b[39m\u001b[38;5;124;03m\"\"\"Attempt to return X-SAMPA equivalent of an IPA phone x.\"\"\"\u001b[39;00m\n\u001b[0;32m---> 88\u001b[0m     (tl, ttf) \u001b[38;5;241m=\u001b[39m \u001b[43mtranslate_string\u001b[49m\u001b[43m(\u001b[49m\u001b[43mx\u001b[49m\u001b[43m,\u001b[49m\u001b[43m \u001b[49m\u001b[43mphonecode_tables\u001b[49m\u001b[38;5;241;43m.\u001b[39;49m\u001b[43m_ipa2xsampa\u001b[49m\u001b[43m)\u001b[49m\n\u001b[1;32m     89\u001b[0m     \u001b[38;5;28;01mreturn\u001b[39;00m \u001b[38;5;124m\"\u001b[39m\u001b[38;5;124m\"\u001b[39m\u001b[38;5;241m.\u001b[39mjoin(tl)\n",
      "File \u001b[0;32m~/.conda/envs/TuanLHA/lib/python3.10/site-packages/phonecodes/phonecodes.py:46\u001b[0m, in \u001b[0;36mtranslate_string\u001b[0;34m(s, d)\u001b[0m\n\u001b[1;32m     44\u001b[0m     \u001b[38;5;66;03m# Search for translatable sequences s[(n-m):n], and keep the best\u001b[39;00m\n\u001b[1;32m     45\u001b[0m     \u001b[38;5;28;01mfor\u001b[39;00m m \u001b[38;5;129;01min\u001b[39;00m \u001b[38;5;28mrange\u001b[39m(\u001b[38;5;241m1\u001b[39m, \u001b[38;5;28mmin\u001b[39m(n \u001b[38;5;241m+\u001b[39m \u001b[38;5;241m1\u001b[39m, maxsym \u001b[38;5;241m+\u001b[39m \u001b[38;5;241m1\u001b[39m)):\n\u001b[0;32m---> 46\u001b[0m         \u001b[38;5;28;01mif\u001b[39;00m \u001b[43ms\u001b[49m\u001b[43m[\u001b[49m\u001b[43m(\u001b[49m\u001b[43mn\u001b[49m\u001b[43m \u001b[49m\u001b[38;5;241;43m-\u001b[39;49m\u001b[43m \u001b[49m\u001b[43mm\u001b[49m\u001b[43m)\u001b[49m\u001b[43m \u001b[49m\u001b[43m:\u001b[49m\u001b[43m \u001b[49m\u001b[43mn\u001b[49m\u001b[43m]\u001b[49m\u001b[43m \u001b[49m\u001b[38;5;129;43;01min\u001b[39;49;00m\u001b[43m \u001b[49m\u001b[43md\u001b[49m \u001b[38;5;129;01mand\u001b[39;00m symcost \u001b[38;5;241m+\u001b[39m lattice[n \u001b[38;5;241m-\u001b[39m m][\u001b[38;5;241m0\u001b[39m] \u001b[38;5;241m<\u001b[39m lattice[n][\u001b[38;5;241m0\u001b[39m]:\n\u001b[1;32m     47\u001b[0m             lattice[n] \u001b[38;5;241m=\u001b[39m (\n\u001b[1;32m     48\u001b[0m                 symcost \u001b[38;5;241m+\u001b[39m lattice[n \u001b[38;5;241m-\u001b[39m m][\u001b[38;5;241m0\u001b[39m],\n\u001b[1;32m     49\u001b[0m                 n \u001b[38;5;241m-\u001b[39m m,\n\u001b[1;32m     50\u001b[0m                 d[s[(n \u001b[38;5;241m-\u001b[39m m) : n]],\n\u001b[1;32m     51\u001b[0m                 \u001b[38;5;28;01mTrue\u001b[39;00m,\n\u001b[1;32m     52\u001b[0m             )\n\u001b[1;32m     53\u001b[0m \u001b[38;5;66;03m# Back-trace\u001b[39;00m\n",
      "\u001b[0;31mTypeError\u001b[0m: unhashable type: 'list'"
     ]
    }
   ],
   "source": [
    "ipa2xsampa(phones, language='vie')"
   ]
  },
  {
   "cell_type": "code",
   "execution_count": 9,
   "metadata": {},
   "outputs": [
    {
     "data": {
      "text/plain": [
       "'tɕaːʊ2 baː6n, t̪oɪ laː2 pɪkatʃuː, t̪oɪ laː2 tɕuəɜ he2'"
      ]
     },
     "execution_count": 9,
     "metadata": {},
     "output_type": "execute_result"
    }
   ],
   "source": [
    "phones"
   ]
  },
  {
   "cell_type": "code",
   "execution_count": null,
   "metadata": {},
   "outputs": [],
   "source": [
    "phones "
   ]
  },
  {
   "cell_type": "code",
   "execution_count": 8,
   "metadata": {},
   "outputs": [
    {
     "data": {
      "text/plain": [
       "(['T',\n",
       "  'ɕ',\n",
       "  'a',\n",
       "  'ː',\n",
       "  'UH',\n",
       "  '2',\n",
       "  ' ',\n",
       "  'B',\n",
       "  'a',\n",
       "  'ː',\n",
       "  '6',\n",
       "  'N',\n",
       "  ',',\n",
       "  ' ',\n",
       "  'T',\n",
       "  '̪',\n",
       "  'o',\n",
       "  'IH',\n",
       "  ' ',\n",
       "  'L',\n",
       "  'a',\n",
       "  'ː',\n",
       "  '2',\n",
       "  ' ',\n",
       "  'P',\n",
       "  'IH',\n",
       "  'K',\n",
       "  'a',\n",
       "  'CH',\n",
       "  'UW',\n",
       "  'ː',\n",
       "  ',',\n",
       "  ' ',\n",
       "  'T',\n",
       "  '̪',\n",
       "  'o',\n",
       "  'IH',\n",
       "  ' ',\n",
       "  'L',\n",
       "  'a',\n",
       "  'ː',\n",
       "  '2',\n",
       "  ' ',\n",
       "  'T',\n",
       "  'ɕ',\n",
       "  'UW',\n",
       "  'AH0',\n",
       "  'ɜ',\n",
       "  ' ',\n",
       "  'HH',\n",
       "  'e',\n",
       "  '2'],\n",
       " [True,\n",
       "  False,\n",
       "  False,\n",
       "  False,\n",
       "  True,\n",
       "  False,\n",
       "  False,\n",
       "  True,\n",
       "  False,\n",
       "  False,\n",
       "  False,\n",
       "  True,\n",
       "  False,\n",
       "  False,\n",
       "  True,\n",
       "  False,\n",
       "  False,\n",
       "  True,\n",
       "  False,\n",
       "  True,\n",
       "  False,\n",
       "  False,\n",
       "  False,\n",
       "  False,\n",
       "  True,\n",
       "  True,\n",
       "  True,\n",
       "  False,\n",
       "  True,\n",
       "  True,\n",
       "  False,\n",
       "  False,\n",
       "  False,\n",
       "  True,\n",
       "  False,\n",
       "  False,\n",
       "  True,\n",
       "  False,\n",
       "  True,\n",
       "  False,\n",
       "  False,\n",
       "  False,\n",
       "  False,\n",
       "  True,\n",
       "  False,\n",
       "  True,\n",
       "  True,\n",
       "  False,\n",
       "  False,\n",
       "  True,\n",
       "  False,\n",
       "  False])"
      ]
     },
     "execution_count": 8,
     "metadata": {},
     "output_type": "execute_result"
    }
   ],
   "source": [
    "translate_string(phones, phonecode_tables._ipa2arpabet)"
   ]
  },
  {
   "cell_type": "code",
   "execution_count": 3,
   "metadata": {},
   "outputs": [
    {
     "data": {
      "text/plain": [
       "85"
      ]
     },
     "execution_count": 3,
     "metadata": {},
     "output_type": "execute_result"
    }
   ],
   "source": [
    "cnt = 0\n",
    "phonecode_tables._ipa2xsampa\n",
    "ls = []\n",
    "s = []\n",
    "for key ,value in phonecode_tables._ipa2xsampa.items():\n",
    "    ls.append(value)\n",
    "for ele in ls:\n",
    "    for i in range(len(ele)):\n",
    "        if ele[i] not in s:\n",
    "            s.append(ele[i])\n",
    "len(s)"
   ]
  },
  {
   "cell_type": "code",
   "execution_count": 7,
   "metadata": {},
   "outputs": [],
   "source": [
    "s.sort()"
   ]
  },
  {
   "cell_type": "code",
   "execution_count": 8,
   "metadata": {},
   "outputs": [],
   "source": [
    "s.append(' ')\n",
    "s.append(',')\n",
    "s.sort()"
   ]
  },
  {
   "cell_type": "code",
   "execution_count": 9,
   "metadata": {},
   "outputs": [
    {
     "data": {
      "text/plain": [
       "[' ',\n",
       " '!',\n",
       " '\"',\n",
       " '#',\n",
       " '%',\n",
       " '&',\n",
       " '+',\n",
       " ',',\n",
       " '-',\n",
       " '.',\n",
       " '/',\n",
       " '0',\n",
       " '1',\n",
       " '2',\n",
       " '3',\n",
       " '4',\n",
       " '5',\n",
       " '6',\n",
       " '7',\n",
       " '8',\n",
       " '9',\n",
       " ':',\n",
       " '<',\n",
       " '=',\n",
       " '>',\n",
       " '?',\n",
       " '@',\n",
       " 'A',\n",
       " 'B',\n",
       " 'C',\n",
       " 'D',\n",
       " 'E',\n",
       " 'F',\n",
       " 'G',\n",
       " 'H',\n",
       " 'I',\n",
       " 'J',\n",
       " 'K',\n",
       " 'L',\n",
       " 'M',\n",
       " 'N',\n",
       " 'O',\n",
       " 'P',\n",
       " 'Q',\n",
       " 'R',\n",
       " 'S',\n",
       " 'T',\n",
       " 'U',\n",
       " 'V',\n",
       " 'W',\n",
       " 'X',\n",
       " 'Y',\n",
       " 'Z',\n",
       " '\\\\',\n",
       " '^',\n",
       " '_',\n",
       " '`',\n",
       " 'a',\n",
       " 'b',\n",
       " 'c',\n",
       " 'd',\n",
       " 'e',\n",
       " 'f',\n",
       " 'g',\n",
       " 'h',\n",
       " 'i',\n",
       " 'j',\n",
       " 'k',\n",
       " 'l',\n",
       " 'm',\n",
       " 'n',\n",
       " 'o',\n",
       " 'p',\n",
       " 'q',\n",
       " 'r',\n",
       " 's',\n",
       " 't',\n",
       " 'u',\n",
       " 'v',\n",
       " 'w',\n",
       " 'x',\n",
       " 'y',\n",
       " 'z',\n",
       " '{',\n",
       " '|',\n",
       " '}',\n",
       " '~']"
      ]
     },
     "execution_count": 9,
     "metadata": {},
     "output_type": "execute_result"
    }
   ],
   "source": [
    "s"
   ]
  },
  {
   "cell_type": "code",
   "execution_count": 10,
   "metadata": {},
   "outputs": [
    {
     "data": {
      "text/plain": [
       "{' ': 1,\n",
       " '!': 2,\n",
       " '\"': 3,\n",
       " '#': 4,\n",
       " '%': 5,\n",
       " '&': 6,\n",
       " '+': 7,\n",
       " ',': 8,\n",
       " '-': 9,\n",
       " '.': 10,\n",
       " '/': 11,\n",
       " '0': 12,\n",
       " '1': 13,\n",
       " '2': 14,\n",
       " '3': 15,\n",
       " '4': 16,\n",
       " '5': 17,\n",
       " '6': 18,\n",
       " '7': 19,\n",
       " '8': 20,\n",
       " '9': 21,\n",
       " ':': 22,\n",
       " '<': 23,\n",
       " '=': 24,\n",
       " '>': 25,\n",
       " '?': 26,\n",
       " '@': 27,\n",
       " 'A': 28,\n",
       " 'B': 29,\n",
       " 'C': 30,\n",
       " 'D': 31,\n",
       " 'E': 32,\n",
       " 'F': 33,\n",
       " 'G': 34,\n",
       " 'H': 35,\n",
       " 'I': 36,\n",
       " 'J': 37,\n",
       " 'K': 38,\n",
       " 'L': 39,\n",
       " 'M': 40,\n",
       " 'N': 41,\n",
       " 'O': 42,\n",
       " 'P': 43,\n",
       " 'Q': 44,\n",
       " 'R': 45,\n",
       " 'S': 46,\n",
       " 'T': 47,\n",
       " 'U': 48,\n",
       " 'V': 49,\n",
       " 'W': 50,\n",
       " 'X': 51,\n",
       " 'Y': 52,\n",
       " 'Z': 53,\n",
       " '\\\\': 54,\n",
       " '^': 55,\n",
       " '_': 56,\n",
       " '`': 57,\n",
       " 'a': 58,\n",
       " 'b': 59,\n",
       " 'c': 60,\n",
       " 'd': 61,\n",
       " 'e': 62,\n",
       " 'f': 63,\n",
       " 'g': 64,\n",
       " 'h': 65,\n",
       " 'i': 66,\n",
       " 'j': 67,\n",
       " 'k': 68,\n",
       " 'l': 69,\n",
       " 'm': 70,\n",
       " 'n': 71,\n",
       " 'o': 72,\n",
       " 'p': 73,\n",
       " 'q': 74,\n",
       " 'r': 75,\n",
       " 's': 76,\n",
       " 't': 77,\n",
       " 'u': 78,\n",
       " 'v': 79,\n",
       " 'w': 80,\n",
       " 'x': 81,\n",
       " 'y': 82,\n",
       " 'z': 83,\n",
       " '{': 84,\n",
       " '|': 85,\n",
       " '}': 86,\n",
       " '~': 87}"
      ]
     },
     "execution_count": 10,
     "metadata": {},
     "output_type": "execute_result"
    }
   ],
   "source": [
    "dict = {}\n",
    "cnt = 1\n",
    "for ele in s:\n",
    "    dict[ele] = cnt\n",
    "    cnt +=1\n",
    "dict"
   ]
  },
  {
   "cell_type": "code",
   "execution_count": null,
   "metadata": {},
   "outputs": [],
   "source": [
    "dict = {' ': 1, '!': 2, '\"': 3, '#': 4, '%': 5, '&': 6, '+': 7, '-': 8, '.': 9, '/': 10, '0': 11, '1': 12, '2': 13, '3': 14, '4': 15, '5': 16, '6': 17, '7': 18, '8': 19, '9': 20, ':': 21, '<': 22, '=': 23, '>': 24, '?': 25, '@': 26, 'A': 27, 'B': 28, 'C': 29, 'D': 30, 'E': 31, 'F': 32, 'G': 33, 'H': 34, 'I': 35, 'J': 36, 'K': 37, 'L': 38, 'M': 39, 'N': 40, 'O': 41, 'P': 42, 'Q': 43, 'R': 44, 'S': 45, 'T': 46, 'U': 47, 'V': 48, 'W': 49, 'X': 50, 'Y': 51, 'Z': 52, '\\\\': 53, '^': 54, '_': 55, '`': 56, 'a': 57, 'b': 58, 'c': 59, 'd': 60, 'e': 61, 'f': 62, 'g': 63, 'h': 64, 'i': 65, 'j': 66, 'k': 67, 'l': 68, 'm': 69, 'n': 70, 'o': 71, 'p': 72, 'q': 73, 'r': 74, 's': 75, 't': 76, 'u': 77, 'v': 78, 'w': 79, 'x': 80, 'y': 81, 'z': 82, '{': 83, '|': 84, '}': 85, '~': 86}"
   ]
  },
  {
   "cell_type": "code",
   "execution_count": 4,
   "metadata": {},
   "outputs": [
    {
     "name": "stdout",
     "output_type": "stream",
     "text": [
      "<module 'phonecodes' from '/home/tuannd/.conda/envs/TuanLHA/lib/python3.10/site-packages/phonecodes/__init__.py'>\n"
     ]
    }
   ],
   "source": [
    "print(phonecodes)"
   ]
  },
  {
   "cell_type": "code",
   "execution_count": 5,
   "metadata": {},
   "outputs": [],
   "source": [
    "import phonecodes.phonecodes"
   ]
  },
  {
   "cell_type": "code",
   "execution_count": 22,
   "metadata": {},
   "outputs": [
    {
     "data": {
      "text/plain": [
       "'c a b'"
      ]
     },
     "execution_count": 22,
     "metadata": {},
     "output_type": "execute_result"
    }
   ],
   "source": [
    "s = ['c', 'a', 'b']\n",
    "\" \".join(s)"
   ]
  },
  {
   "cell_type": "code",
   "execution_count": 31,
   "metadata": {},
   "outputs": [
    {
     "name": "stdout",
     "output_type": "stream",
     "text": [
      "c\n",
      "h\n",
      "a\n",
      "o\n",
      " \n",
      "t\n",
      "a\n",
      "t\n",
      " \n",
      "c\n",
      "a\n",
      " \n",
      "c\n",
      "a\n",
      "c\n",
      " \n",
      "b\n",
      "a\n",
      "n\n",
      " \n",
      "n\n",
      "h\n",
      "a\n"
     ]
    }
   ],
   "source": [
    "_dict = {' ': 1, '!': 2, '\"': 3, '#': 4, '%': 5, '&': 6, '+': 7, '-': 8, '.': 9, '/': 10, \n",
    "         '0': 11, '1': 12, '2': 13, '3': 14, '4': 15, '5': 16, '6': 17, '7': 18, '8': 19, '9': 20, \n",
    "         ':': 21, '<': 22, '=': 23, '>': 24, '?': 25, '@': 26, \n",
    "         'A': 27, 'B': 28, 'C': 29, 'D': 30, 'E': 31, 'F': 32, 'G': 33, 'H': 34, 'I': 35, 'J': 36, \n",
    "         'K': 37, 'L': 38, 'M': 39, 'N': 40, 'O': 41, 'P': 42, 'Q': 43, 'R': 44, 'S': 45, 'T': 46, \n",
    "         'U': 47, 'V': 48, 'W': 49, 'X': 50, 'Y': 51, 'Z': 52, '\\\\': 53, '^': 54, '_': 55, '`': 56, \n",
    "         'a': 57, 'b': 58, 'c': 59, 'd': 60, 'e': 61, 'f': 62, 'g': 63, 'h': 64, 'i': 65, 'j': 66, \n",
    "         'k': 67, 'l': 68, 'm': 69, 'n': 70, 'o': 71, 'p': 72, 'q': 73, 'r': 74, 's': 75, 't': 76, \n",
    "         'u': 77, 'v': 78, 'w': 79, 'x': 80, 'y': 81, 'z': 82, '{': 83, '|': 84, '}': 85, '~': 86}\n"
   ]
  }
 ],
 "metadata": {
  "kernelspec": {
   "display_name": "TuanLHA",
   "language": "python",
   "name": "python3"
  },
  "language_info": {
   "codemirror_mode": {
    "name": "ipython",
    "version": 3
   },
   "file_extension": ".py",
   "mimetype": "text/x-python",
   "name": "python",
   "nbconvert_exporter": "python",
   "pygments_lexer": "ipython3",
   "version": "3.10.14"
  }
 },
 "nbformat": 4,
 "nbformat_minor": 2
}
