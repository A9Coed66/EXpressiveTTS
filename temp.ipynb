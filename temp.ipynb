{
 "cells": [
  {
   "cell_type": "code",
   "execution_count": 1,
   "metadata": {},
   "outputs": [],
   "source": [
    "import phonecodes"
   ]
  },
  {
   "cell_type": "code",
   "execution_count": 2,
   "metadata": {},
   "outputs": [
    {
     "name": "stdout",
     "output_type": "stream",
     "text": [
      "<module 'phonecodes' from '/home/tuannd/.conda/envs/TuanLHA/lib/python3.10/site-packages/phonecodes/__init__.py'>\n"
     ]
    }
   ],
   "source": [
    "print(phonecodes)"
   ]
  },
  {
   "cell_type": "code",
   "execution_count": 3,
   "metadata": {},
   "outputs": [
    {
     "data": {
      "text/plain": [
       "<module 'phonecodes.phonecodes' from '/home/tuannd/.conda/envs/TuanLHA/lib/python3.10/site-packages/phonecodes/phonecodes.py'>"
      ]
     },
     "execution_count": 3,
     "metadata": {},
     "output_type": "execute_result"
    }
   ],
   "source": [
    "import phonecodes.phonecodes\n",
    "\n",
    "\n",
    "phonecodes.phonecodes"
   ]
  },
  {
   "cell_type": "code",
   "execution_count": 7,
   "metadata": {},
   "outputs": [
    {
     "name": "stdout",
     "output_type": "stream",
     "text": [
      "['/home2/tuannd/tuanlha/PreprocessedDataVNese/mel/169-mel-SPEAKER_01 - 653.82 - 657.83.npy', 'thì em muốn vênh ấp cái chuyện em muốn mang chuyện đấy ra bởi vì em thấy đúng là.', '10']\n"
     ]
    }
   ],
   "source": [
    "filelist_path = '/home2/tuannd/tuanlha/EXpressiveTTS/dataWorking/filelists/HaveASip/train_unseen.txt'\n",
    "with open(filelist_path, encoding='utf-8') as f:\n",
    "    filepaths_and_text = [line.strip().split('|') for line in f]\n",
    "print(filepaths_and_text[0])"
   ]
  }
 ],
 "metadata": {
  "kernelspec": {
   "display_name": "TuanLHA",
   "language": "python",
   "name": "python3"
  },
  "language_info": {
   "codemirror_mode": {
    "name": "ipython",
    "version": 3
   },
   "file_extension": ".py",
   "mimetype": "text/x-python",
   "name": "python",
   "nbconvert_exporter": "python",
   "pygments_lexer": "ipython3",
   "version": "3.10.14"
  }
 },
 "nbformat": 4,
 "nbformat_minor": 2
}
