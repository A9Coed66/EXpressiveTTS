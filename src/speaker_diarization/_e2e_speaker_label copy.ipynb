{
 "cells": [
  {
   "cell_type": "code",
   "execution_count": 1,
   "metadata": {},
   "outputs": [
    {
     "ename": "ModuleNotFoundError",
     "evalue": "No module named 'pydub'",
     "output_type": "error",
     "traceback": [
      "\u001b[0;31m---------------------------------------------------------------------------\u001b[0m",
      "\u001b[0;31mModuleNotFoundError\u001b[0m                       Traceback (most recent call last)",
      "Cell \u001b[0;32mIn[1], line 25\u001b[0m\n\u001b[1;32m      1\u001b[0m \u001b[38;5;124;03m\"\"\"\u001b[39;00m\n\u001b[1;32m      2\u001b[0m \u001b[38;5;124;03m1. Chunk audio\u001b[39;00m\n\u001b[1;32m      3\u001b[0m \u001b[38;5;124;03m    output: 1. chunked audio: audio file\u001b[39;00m\n\u001b[0;32m   (...)\u001b[0m\n\u001b[1;32m     14\u001b[0m \u001b[38;5;124;03m    output: 6. transcript: dataframe [columns: audio_path, transcript, speaker]\u001b[39;00m\n\u001b[1;32m     15\u001b[0m \u001b[38;5;124;03m\"\"\"\u001b[39;00m\n\u001b[1;32m     16\u001b[0m \u001b[38;5;66;03m### 0. setup data\u001b[39;00m\n\u001b[1;32m     17\u001b[0m \n\u001b[1;32m     18\u001b[0m \u001b[38;5;66;03m# ap = argparse.ArgumentParser()\u001b[39;00m\n\u001b[0;32m   (...)\u001b[0m\n\u001b[1;32m     23\u001b[0m \n\u001b[1;32m     24\u001b[0m \u001b[38;5;66;03m### 1. Chunk audio\u001b[39;00m\n\u001b[0;32m---> 25\u001b[0m \u001b[38;5;28;01mfrom\u001b[39;00m \u001b[38;5;21;01msplit_audio\u001b[39;00m \u001b[38;5;28;01mimport\u001b[39;00m split_audio\n\u001b[1;32m     26\u001b[0m \u001b[38;5;28;01mfrom\u001b[39;00m \u001b[38;5;21;01mdenoise\u001b[39;00m \u001b[38;5;28;01mimport\u001b[39;00m denoise\n\u001b[1;32m     27\u001b[0m \u001b[38;5;28;01mfrom\u001b[39;00m \u001b[38;5;21;01mcreate_diarization\u001b[39;00m \u001b[38;5;28;01mimport\u001b[39;00m create_diarization\n",
      "File \u001b[0;32m~/tuanlha/EXpressiveTTS/src/speaker_diarization/split_audio.py:1\u001b[0m\n\u001b[0;32m----> 1\u001b[0m \u001b[38;5;28;01mfrom\u001b[39;00m \u001b[38;5;21;01mpydub\u001b[39;00m \u001b[38;5;28;01mimport\u001b[39;00m AudioSegment\n\u001b[1;32m      3\u001b[0m \u001b[38;5;28;01mdef\u001b[39;00m \u001b[38;5;21msplit_audio\u001b[39m(audio_file, folder_name, duration\u001b[38;5;241m=\u001b[39m\u001b[38;5;241m300\u001b[39m):\n\u001b[1;32m      4\u001b[0m \u001b[38;5;250m  \u001b[39m\u001b[38;5;124;03m\"\"\"\u001b[39;00m\n\u001b[1;32m      5\u001b[0m \u001b[38;5;124;03m  Chia một file âm thanh thành các đoạn nhỏ hơn.\u001b[39;00m\n\u001b[1;32m      6\u001b[0m \n\u001b[0;32m   (...)\u001b[0m\n\u001b[1;32m     12\u001b[0m \u001b[38;5;124;03m    list: Danh sách các đoạn âm thanh đã chia.\u001b[39;00m\n\u001b[1;32m     13\u001b[0m \u001b[38;5;124;03m  \"\"\"\u001b[39;00m\n",
      "\u001b[0;31mModuleNotFoundError\u001b[0m: No module named 'pydub'"
     ]
    }
   ],
   "source": [
    "\"\"\"\n",
    "1. Chunk audio\n",
    "    output: 1. chunked audio: audio file\n",
    "2. Denoise audio\n",
    "    output: 2.denoise audio: audio file\n",
    "3. Diarization\n",
    "    output: 3. diary: dataframe [columns: start, end, speaker]\n",
    "4. Speaker labeled from diary logs\n",
    "    output: 4. speaker labeled: dataframe [columns: audio_path, diary_label, model_label, score, verified]\n",
    "5. Concat near audio files to one file\n",
    "    output: 5. concatenated audio:  dataframe [columns: start. end, speaker]\n",
    "                                    audio file\n",
    "6. Audio speech recognition:\n",
    "    output: 6. transcript: dataframe [columns: audio_path, transcript, speaker]\n",
    "\"\"\"\n",
    "### 0. setup data\n",
    "\n",
    "# ap = argparse.ArgumentParser()\n",
    "# ap.add_argument(\"-ap\", \"--audio_path\", type=str, default=0,\n",
    "#     help=\"path of audio file\")\n",
    "# ap.add_argument(\"-fn\", \"--folder_name\", type=str)\n",
    "# args = vars(ap.parse_args())\n",
    "\n",
    "### 1. Chunk audio\n",
    "from split_audio import split_audio\n",
    "from denoise import denoise\n",
    "from create_diarization import create_diarization\n",
    "from remove_collision import remove_collision, split_diarization\n",
    "from verify_speaker import verify_speaker\n",
    "from concat_audio import concat_audio\n"
   ]
  },
  {
   "cell_type": "code",
   "execution_count": 25,
   "metadata": {},
   "outputs": [
    {
     "ename": "AttributeError",
     "evalue": "module 'torchaudio' has no attribute 'AudioMetaData'",
     "output_type": "error",
     "traceback": [
      "\u001b[0;31m---------------------------------------------------------------------------\u001b[0m",
      "\u001b[0;31mAttributeError\u001b[0m                            Traceback (most recent call last)",
      "Cell \u001b[0;32mIn[25], line 1\u001b[0m\n\u001b[0;32m----> 1\u001b[0m \u001b[38;5;28;01mfrom\u001b[39;00m \u001b[38;5;21;01mpyannote\u001b[39;00m\u001b[38;5;21;01m.\u001b[39;00m\u001b[38;5;21;01maudio\u001b[39;00m \u001b[38;5;28;01mimport\u001b[39;00m Pipeline\n",
      "File \u001b[0;32m~/.conda/envs/tuanlha/lib/python3.11/site-packages/pyannote/audio/__init__.py:29\u001b[0m\n\u001b[1;32m     25\u001b[0m \u001b[38;5;28;01mexcept\u001b[39;00m \u001b[38;5;167;01mImportError\u001b[39;00m:\n\u001b[1;32m     26\u001b[0m     \u001b[38;5;28;01mpass\u001b[39;00m\n\u001b[0;32m---> 29\u001b[0m \u001b[38;5;28;01mfrom\u001b[39;00m \u001b[38;5;21;01m.\u001b[39;00m\u001b[38;5;21;01mcore\u001b[39;00m\u001b[38;5;21;01m.\u001b[39;00m\u001b[38;5;21;01minference\u001b[39;00m \u001b[38;5;28;01mimport\u001b[39;00m Inference\n\u001b[1;32m     30\u001b[0m \u001b[38;5;28;01mfrom\u001b[39;00m \u001b[38;5;21;01m.\u001b[39;00m\u001b[38;5;21;01mcore\u001b[39;00m\u001b[38;5;21;01m.\u001b[39;00m\u001b[38;5;21;01mio\u001b[39;00m \u001b[38;5;28;01mimport\u001b[39;00m Audio\n\u001b[1;32m     31\u001b[0m \u001b[38;5;28;01mfrom\u001b[39;00m \u001b[38;5;21;01m.\u001b[39;00m\u001b[38;5;21;01mcore\u001b[39;00m\u001b[38;5;21;01m.\u001b[39;00m\u001b[38;5;21;01mmodel\u001b[39;00m \u001b[38;5;28;01mimport\u001b[39;00m Model\n",
      "File \u001b[0;32m~/.conda/envs/tuanlha/lib/python3.11/site-packages/pyannote/audio/core/inference.py:35\u001b[0m\n\u001b[1;32m     32\u001b[0m \u001b[38;5;28;01mfrom\u001b[39;00m \u001b[38;5;21;01mpyannote\u001b[39;00m\u001b[38;5;21;01m.\u001b[39;00m\u001b[38;5;21;01mcore\u001b[39;00m \u001b[38;5;28;01mimport\u001b[39;00m Segment, SlidingWindow, SlidingWindowFeature\n\u001b[1;32m     33\u001b[0m \u001b[38;5;28;01mfrom\u001b[39;00m \u001b[38;5;21;01mpytorch_lightning\u001b[39;00m\u001b[38;5;21;01m.\u001b[39;00m\u001b[38;5;21;01mutilities\u001b[39;00m\u001b[38;5;21;01m.\u001b[39;00m\u001b[38;5;21;01mmemory\u001b[39;00m \u001b[38;5;28;01mimport\u001b[39;00m is_oom_error\n\u001b[0;32m---> 35\u001b[0m \u001b[38;5;28;01mfrom\u001b[39;00m \u001b[38;5;21;01mpyannote\u001b[39;00m\u001b[38;5;21;01m.\u001b[39;00m\u001b[38;5;21;01maudio\u001b[39;00m\u001b[38;5;21;01m.\u001b[39;00m\u001b[38;5;21;01mcore\u001b[39;00m\u001b[38;5;21;01m.\u001b[39;00m\u001b[38;5;21;01mio\u001b[39;00m \u001b[38;5;28;01mimport\u001b[39;00m AudioFile\n\u001b[1;32m     36\u001b[0m \u001b[38;5;28;01mfrom\u001b[39;00m \u001b[38;5;21;01mpyannote\u001b[39;00m\u001b[38;5;21;01m.\u001b[39;00m\u001b[38;5;21;01maudio\u001b[39;00m\u001b[38;5;21;01m.\u001b[39;00m\u001b[38;5;21;01mcore\u001b[39;00m\u001b[38;5;21;01m.\u001b[39;00m\u001b[38;5;21;01mmodel\u001b[39;00m \u001b[38;5;28;01mimport\u001b[39;00m Model, Specifications\n\u001b[1;32m     37\u001b[0m \u001b[38;5;28;01mfrom\u001b[39;00m \u001b[38;5;21;01mpyannote\u001b[39;00m\u001b[38;5;21;01m.\u001b[39;00m\u001b[38;5;21;01maudio\u001b[39;00m\u001b[38;5;21;01m.\u001b[39;00m\u001b[38;5;21;01mcore\u001b[39;00m\u001b[38;5;21;01m.\u001b[39;00m\u001b[38;5;21;01mtask\u001b[39;00m \u001b[38;5;28;01mimport\u001b[39;00m Resolution\n",
      "File \u001b[0;32m~/.conda/envs/tuanlha/lib/python3.11/site-packages/pyannote/audio/core/io.py:60\u001b[0m\n\u001b[1;32m     43\u001b[0m AudioFile \u001b[38;5;241m=\u001b[39m Union[Text, Path, IOBase, Mapping]\n\u001b[1;32m     45\u001b[0m AudioFileDocString \u001b[38;5;241m=\u001b[39m \u001b[38;5;124m\"\"\"\u001b[39m\n\u001b[1;32m     46\u001b[0m \u001b[38;5;124mAudio files can be provided to the Audio class using different types:\u001b[39m\n\u001b[1;32m     47\u001b[0m \u001b[38;5;124m    - a \u001b[39m\u001b[38;5;124m\"\u001b[39m\u001b[38;5;124mstr\u001b[39m\u001b[38;5;124m\"\u001b[39m\u001b[38;5;124m or \u001b[39m\u001b[38;5;124m\"\u001b[39m\u001b[38;5;124mPath\u001b[39m\u001b[38;5;124m\"\u001b[39m\u001b[38;5;124m instance: \u001b[39m\u001b[38;5;124m\"\u001b[39m\u001b[38;5;124maudio.wav\u001b[39m\u001b[38;5;124m\"\u001b[39m\u001b[38;5;124m or Path(\u001b[39m\u001b[38;5;124m\"\u001b[39m\u001b[38;5;124maudio.wav\u001b[39m\u001b[38;5;124m\"\u001b[39m\u001b[38;5;124m)\u001b[39m\n\u001b[0;32m   (...)\u001b[0m\n\u001b[1;32m     54\u001b[0m \u001b[38;5;124minteger to load a specific channel: \u001b[39m\u001b[38;5;124m{\u001b[39m\u001b[38;5;124m\"\u001b[39m\u001b[38;5;124maudio\u001b[39m\u001b[38;5;124m\"\u001b[39m\u001b[38;5;124m: \u001b[39m\u001b[38;5;124m\"\u001b[39m\u001b[38;5;124mstereo.wav\u001b[39m\u001b[38;5;124m\"\u001b[39m\u001b[38;5;124m, \u001b[39m\u001b[38;5;124m\"\u001b[39m\u001b[38;5;124mchannel\u001b[39m\u001b[38;5;124m\"\u001b[39m\u001b[38;5;124m: 0}\u001b[39m\n\u001b[1;32m     55\u001b[0m \u001b[38;5;124m\"\"\"\u001b[39m\n\u001b[1;32m     58\u001b[0m \u001b[38;5;28;01mdef\u001b[39;00m \u001b[38;5;21mget_torchaudio_info\u001b[39m(\n\u001b[1;32m     59\u001b[0m     file: AudioFile, backend: \u001b[38;5;28mstr\u001b[39m \u001b[38;5;241m=\u001b[39m \u001b[38;5;28;01mNone\u001b[39;00m\n\u001b[0;32m---> 60\u001b[0m ) \u001b[38;5;241m-\u001b[39m\u001b[38;5;241m>\u001b[39m \u001b[43mtorchaudio\u001b[49m\u001b[38;5;241;43m.\u001b[39;49m\u001b[43mAudioMetaData\u001b[49m:\n\u001b[1;32m     61\u001b[0m \u001b[38;5;250m    \u001b[39m\u001b[38;5;124;03m\"\"\"Protocol preprocessor used to cache output of torchaudio.info\u001b[39;00m\n\u001b[1;32m     62\u001b[0m \n\u001b[1;32m     63\u001b[0m \u001b[38;5;124;03m    This is useful to speed future random access to this file, e.g.\u001b[39;00m\n\u001b[0;32m   (...)\u001b[0m\n\u001b[1;32m     76\u001b[0m \u001b[38;5;124;03m        Audio file metadata\u001b[39;00m\n\u001b[1;32m     77\u001b[0m \u001b[38;5;124;03m    \"\"\"\u001b[39;00m\n\u001b[1;32m     79\u001b[0m     \u001b[38;5;28;01mif\u001b[39;00m \u001b[38;5;129;01mnot\u001b[39;00m backend:\n",
      "\u001b[0;31mAttributeError\u001b[0m: module 'torchaudio' has no attribute 'AudioMetaData'"
     ]
    }
   ],
   "source": [
    "from pyannote.audio import Pipeline"
   ]
  },
  {
   "cell_type": "code",
   "execution_count": 28,
   "metadata": {},
   "outputs": [
    {
     "name": "stdout",
     "output_type": "stream",
     "text": [
      "Collecting torchaudio==2.4.0\n",
      "  Downloading torchaudio-2.4.0-cp311-cp311-manylinux1_x86_64.whl.metadata (6.4 kB)\n",
      "Collecting torch==2.4.0 (from torchaudio==2.4.0)\n",
      "  Downloading torch-2.4.0-cp311-cp311-manylinux1_x86_64.whl.metadata (26 kB)\n",
      "Requirement already satisfied: filelock in /home/tuannd/.conda/envs/tuanlha/lib/python3.11/site-packages (from torch==2.4.0->torchaudio==2.4.0) (3.15.4)\n",
      "Requirement already satisfied: typing-extensions>=4.8.0 in /home/tuannd/.conda/envs/tuanlha/lib/python3.11/site-packages (from torch==2.4.0->torchaudio==2.4.0) (4.12.2)\n",
      "Requirement already satisfied: sympy in /home/tuannd/.conda/envs/tuanlha/lib/python3.11/site-packages (from torch==2.4.0->torchaudio==2.4.0) (1.13.2)\n",
      "Requirement already satisfied: networkx in /home/tuannd/.conda/envs/tuanlha/lib/python3.11/site-packages (from torch==2.4.0->torchaudio==2.4.0) (3.3)\n",
      "Requirement already satisfied: jinja2 in /home/tuannd/.conda/envs/tuanlha/lib/python3.11/site-packages (from torch==2.4.0->torchaudio==2.4.0) (3.1.4)\n",
      "Requirement already satisfied: fsspec in /home/tuannd/.conda/envs/tuanlha/lib/python3.11/site-packages (from torch==2.4.0->torchaudio==2.4.0) (2024.6.1)\n",
      "Requirement already satisfied: nvidia-cuda-nvrtc-cu12==12.1.105 in /home/tuannd/.conda/envs/tuanlha/lib/python3.11/site-packages (from torch==2.4.0->torchaudio==2.4.0) (12.1.105)\n",
      "Requirement already satisfied: nvidia-cuda-runtime-cu12==12.1.105 in /home/tuannd/.conda/envs/tuanlha/lib/python3.11/site-packages (from torch==2.4.0->torchaudio==2.4.0) (12.1.105)\n",
      "Requirement already satisfied: nvidia-cuda-cupti-cu12==12.1.105 in /home/tuannd/.conda/envs/tuanlha/lib/python3.11/site-packages (from torch==2.4.0->torchaudio==2.4.0) (12.1.105)\n",
      "Requirement already satisfied: nvidia-cudnn-cu12==9.1.0.70 in /home/tuannd/.conda/envs/tuanlha/lib/python3.11/site-packages (from torch==2.4.0->torchaudio==2.4.0) (9.1.0.70)\n",
      "Requirement already satisfied: nvidia-cublas-cu12==12.1.3.1 in /home/tuannd/.conda/envs/tuanlha/lib/python3.11/site-packages (from torch==2.4.0->torchaudio==2.4.0) (12.1.3.1)\n",
      "Requirement already satisfied: nvidia-cufft-cu12==11.0.2.54 in /home/tuannd/.conda/envs/tuanlha/lib/python3.11/site-packages (from torch==2.4.0->torchaudio==2.4.0) (11.0.2.54)\n",
      "Requirement already satisfied: nvidia-curand-cu12==10.3.2.106 in /home/tuannd/.conda/envs/tuanlha/lib/python3.11/site-packages (from torch==2.4.0->torchaudio==2.4.0) (10.3.2.106)\n",
      "Requirement already satisfied: nvidia-cusolver-cu12==11.4.5.107 in /home/tuannd/.conda/envs/tuanlha/lib/python3.11/site-packages (from torch==2.4.0->torchaudio==2.4.0) (11.4.5.107)\n",
      "Requirement already satisfied: nvidia-cusparse-cu12==12.1.0.106 in /home/tuannd/.conda/envs/tuanlha/lib/python3.11/site-packages (from torch==2.4.0->torchaudio==2.4.0) (12.1.0.106)\n",
      "Requirement already satisfied: nvidia-nccl-cu12==2.20.5 in /home/tuannd/.conda/envs/tuanlha/lib/python3.11/site-packages (from torch==2.4.0->torchaudio==2.4.0) (2.20.5)\n",
      "Requirement already satisfied: nvidia-nvtx-cu12==12.1.105 in /home/tuannd/.conda/envs/tuanlha/lib/python3.11/site-packages (from torch==2.4.0->torchaudio==2.4.0) (12.1.105)\n",
      "Requirement already satisfied: triton==3.0.0 in /home/tuannd/.conda/envs/tuanlha/lib/python3.11/site-packages (from torch==2.4.0->torchaudio==2.4.0) (3.0.0)\n",
      "Requirement already satisfied: nvidia-nvjitlink-cu12 in /home/tuannd/.conda/envs/tuanlha/lib/python3.11/site-packages (from nvidia-cusolver-cu12==11.4.5.107->torch==2.4.0->torchaudio==2.4.0) (12.6.68)\n",
      "Requirement already satisfied: MarkupSafe>=2.0 in /home/tuannd/.conda/envs/tuanlha/lib/python3.11/site-packages (from jinja2->torch==2.4.0->torchaudio==2.4.0) (2.1.5)\n",
      "Requirement already satisfied: mpmath<1.4,>=1.1.0 in /home/tuannd/.conda/envs/tuanlha/lib/python3.11/site-packages (from sympy->torch==2.4.0->torchaudio==2.4.0) (1.3.0)\n",
      "Downloading torchaudio-2.4.0-cp311-cp311-manylinux1_x86_64.whl (3.4 MB)\n",
      "\u001b[2K   \u001b[90m━━━━━━━━━━━━━━━━━━━━━━━━━━━━━━━━━━━━━━━━\u001b[0m \u001b[32m3.4/3.4 MB\u001b[0m \u001b[31m3.3 MB/s\u001b[0m eta \u001b[36m0:00:00\u001b[0ma \u001b[36m0:00:01\u001b[0m\n",
      "\u001b[?25hDownloading torch-2.4.0-cp311-cp311-manylinux1_x86_64.whl (797.3 MB)\n",
      "\u001b[2K   \u001b[90m━━━━━━━━━━━━━━━━━━━━━━━━━━━━━━━━━━━━━━━━\u001b[0m \u001b[32m797.3/797.3 MB\u001b[0m \u001b[31m3.7 MB/s\u001b[0m eta \u001b[36m0:00:00\u001b[0m00:01\u001b[0m00:05\u001b[0m\n",
      "\u001b[?25hInstalling collected packages: torch, torchaudio\n",
      "  Attempting uninstall: torch\n",
      "    Found existing installation: torch 2.4.1\n",
      "    Uninstalling torch-2.4.1:\n",
      "      Successfully uninstalled torch-2.4.1\n",
      "  Attempting uninstall: torchaudio\n",
      "    Found existing installation: torchaudio 2.4.1\n",
      "    Uninstalling torchaudio-2.4.1:\n",
      "      Successfully uninstalled torchaudio-2.4.1\n",
      "\u001b[31mERROR: pip's dependency resolver does not currently take into account all the packages that are installed. This behaviour is the source of the following dependency conflicts.\n",
      "torchvision 0.15.1 requires torch==2.0.0, but you have torch 2.4.0 which is incompatible.\u001b[0m\u001b[31m\n",
      "\u001b[0mSuccessfully installed torch-2.4.0 torchaudio-2.4.0\n"
     ]
    }
   ],
   "source": [
    "!pip install torchaudio==2.4.0"
   ]
  },
  {
   "cell_type": "code",
   "execution_count": null,
   "metadata": {},
   "outputs": [],
   "source": []
  }
 ],
 "metadata": {
  "kernelspec": {
   "display_name": "tuanlha",
   "language": "python",
   "name": "python3"
  },
  "language_info": {
   "codemirror_mode": {
    "name": "ipython",
    "version": 3
   },
   "file_extension": ".py",
   "mimetype": "text/x-python",
   "name": "python",
   "nbconvert_exporter": "python",
   "pygments_lexer": "ipython3",
   "version": "3.9.17"
  }
 },
 "nbformat": 4,
 "nbformat_minor": 2
}
