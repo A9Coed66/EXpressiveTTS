{
 "cells": [
  {
   "cell_type": "code",
   "execution_count": null,
   "metadata": {},
   "outputs": [
    {
     "name": "stderr",
     "output_type": "stream",
     "text": [
      "[nltk_data] Downloading package averaged_perceptron_tagger to\n",
      "[nltk_data]     /home/tuannd/nltk_data...\n"
     ]
    }
   ],
   "source": [
    "import nltk\n",
    "nltk.download('averaged_perceptron_tagger')"
   ]
  },
  {
   "cell_type": "code",
   "execution_count": 2,
   "metadata": {},
   "outputs": [
    {
     "ename": "ModuleNotFoundError",
     "evalue": "No module named 'audio'",
     "output_type": "error",
     "traceback": [
      "\u001b[0;31m---------------------------------------------------------------------------\u001b[0m",
      "\u001b[0;31mModuleNotFoundError\u001b[0m                       Traceback (most recent call last)",
      "Cell \u001b[0;32mIn[2], line 3\u001b[0m\n\u001b[1;32m      1\u001b[0m \u001b[38;5;28;01mimport\u001b[39;00m \u001b[38;5;21;01myaml\u001b[39;00m\n\u001b[0;32m----> 3\u001b[0m \u001b[38;5;28;01mfrom\u001b[39;00m \u001b[38;5;21;01mpreprocessor\u001b[39;00m\u001b[38;5;21;01m.\u001b[39;00m\u001b[38;5;21;01mpreprocessor\u001b[39;00m \u001b[38;5;28;01mimport\u001b[39;00m Preprocessor\n\u001b[1;32m      4\u001b[0m \u001b[38;5;28;01mfrom\u001b[39;00m \u001b[38;5;21;01mpreprocessor\u001b[39;00m \u001b[38;5;28;01mimport\u001b[39;00m ljspeech, vctk, esd, mihoyo\n",
      "File \u001b[0;32m~/tuanlha/temp/DEX-TTS/DEX-TTS/preprocess/preprocessor/preprocessor.py:18\u001b[0m\n\u001b[1;32m     15\u001b[0m \u001b[38;5;28;01mimport\u001b[39;00m \u001b[38;5;21;01msys\u001b[39;00m\n\u001b[1;32m     16\u001b[0m sys\u001b[38;5;241m.\u001b[39mpath\u001b[38;5;241m.\u001b[39mappend(os\u001b[38;5;241m.\u001b[39mpath\u001b[38;5;241m.\u001b[39mabspath(\u001b[38;5;124m'\u001b[39m\u001b[38;5;124m./\u001b[39m\u001b[38;5;124m'\u001b[39m))\n\u001b[0;32m---> 18\u001b[0m \u001b[38;5;28;01mimport\u001b[39;00m \u001b[38;5;21;01maudio\u001b[39;00m \u001b[38;5;28;01mas\u001b[39;00m \u001b[38;5;21;01mAudio\u001b[39;00m\n\u001b[1;32m     19\u001b[0m random\u001b[38;5;241m.\u001b[39mseed(\u001b[38;5;241m1234\u001b[39m)\n\u001b[1;32m     22\u001b[0m \u001b[38;5;28;01mclass\u001b[39;00m \u001b[38;5;21;01mPreprocessor\u001b[39;00m:\n",
      "\u001b[0;31mModuleNotFoundError\u001b[0m: No module named 'audio'"
     ]
    }
   ],
   "source": [
    "import yaml\n",
    "\n",
    "from preprocessor.preprocessor import Preprocessor\n",
    "from preprocessor import ljspeech, vctk, esd, mihoyo"
   ]
  },
  {
   "cell_type": "code",
   "execution_count": 1,
   "metadata": {},
   "outputs": [
    {
     "ename": "ModuleNotFoundError",
     "evalue": "No module named 'audio'",
     "output_type": "error",
     "traceback": [
      "\u001b[0;31m---------------------------------------------------------------------------\u001b[0m",
      "\u001b[0;31mModuleNotFoundError\u001b[0m                       Traceback (most recent call last)",
      "Cell \u001b[0;32mIn[1], line 5\u001b[0m\n\u001b[1;32m      1\u001b[0m \u001b[38;5;28;01mimport\u001b[39;00m \u001b[38;5;21;01margparse\u001b[39;00m\n\u001b[1;32m      3\u001b[0m \u001b[38;5;28;01mimport\u001b[39;00m \u001b[38;5;21;01myaml\u001b[39;00m\n\u001b[0;32m----> 5\u001b[0m \u001b[38;5;28;01mfrom\u001b[39;00m \u001b[38;5;21;01mpreprocessor\u001b[39;00m\u001b[38;5;21;01m.\u001b[39;00m\u001b[38;5;21;01mpreprocessor\u001b[39;00m \u001b[38;5;28;01mimport\u001b[39;00m Preprocessor\n\u001b[1;32m      6\u001b[0m \u001b[38;5;28;01mfrom\u001b[39;00m \u001b[38;5;21;01mpreprocessor\u001b[39;00m \u001b[38;5;28;01mimport\u001b[39;00m ljspeech, vctk, esd, mihoyo\n\u001b[1;32m      9\u001b[0m \u001b[38;5;28;01mdef\u001b[39;00m \u001b[38;5;21mmain\u001b[39m(config):\n",
      "File \u001b[0;32m~/tuanlha/temp/DEX-TTS/DEX-TTS/preprocess/preprocessor/preprocessor.py:18\u001b[0m\n\u001b[1;32m     15\u001b[0m \u001b[38;5;28;01mimport\u001b[39;00m \u001b[38;5;21;01msys\u001b[39;00m\n\u001b[1;32m     16\u001b[0m sys\u001b[38;5;241m.\u001b[39mpath\u001b[38;5;241m.\u001b[39mappend(os\u001b[38;5;241m.\u001b[39mpath\u001b[38;5;241m.\u001b[39mabspath(\u001b[38;5;124m'\u001b[39m\u001b[38;5;124m./\u001b[39m\u001b[38;5;124m'\u001b[39m))\n\u001b[0;32m---> 18\u001b[0m \u001b[38;5;28;01mimport\u001b[39;00m \u001b[38;5;21;01maudio\u001b[39;00m \u001b[38;5;28;01mas\u001b[39;00m \u001b[38;5;21;01mAudio\u001b[39;00m\n\u001b[1;32m     19\u001b[0m random\u001b[38;5;241m.\u001b[39mseed(\u001b[38;5;241m1234\u001b[39m)\n\u001b[1;32m     22\u001b[0m \u001b[38;5;28;01mclass\u001b[39;00m \u001b[38;5;21;01mPreprocessor\u001b[39;00m:\n",
      "\u001b[0;31mModuleNotFoundError\u001b[0m: No module named 'audio'"
     ]
    }
   ],
   "source": [
    "\n",
    "\n",
    "\n",
    "def main(config):\n",
    "    if \"LJSpeech\" in config[\"dataset\"]:\n",
    "        ljspeech.prepare_align(config)\n",
    "    if \"VCTK\" in config[\"dataset\"]:\n",
    "        vctk.prepare_align(config)\n",
    "    if \"ESD\" in config[\"dataset\"]:\n",
    "        esd.prepare_align(config)\n",
    "        esd.make_meta_dict(config)\n",
    "    if \"Mihoyo\" in config[\"dataset\"]:\n",
    "        mihoyo.prepare_align(config)\n",
    "\n",
    "    preprocessor = Preprocessor(config)\n",
    "    preprocessor.build_from_path()   \n",
    "    \n"
   ]
  },
  {
   "cell_type": "code",
   "execution_count": null,
   "metadata": {},
   "outputs": [],
   "source": [
    "\n",
    "\n",
    "if __name__ == \"__main__\":\n",
    "    parser = argparse.ArgumentParser()\n",
    "    parser.add_argument(\"--config\", type=str, default=\"config/Mihoyo/preprocess.yaml\")\n",
    "    args = parser.parse_args()\n",
    "\n",
    "    config = yaml.load(open(args.config, \"r\"), Loader=yaml.FullLoader)\n",
    "    \n",
    "    main(config)"
   ]
  },
  {
   "cell_type": "code",
   "execution_count": 1,
   "metadata": {},
   "outputs": [
    {
     "name": "stdout",
     "output_type": "stream",
     "text": [
      "hello everyone, my name is tuan anh. i am a student at the university of information technology.\n",
      "symbols: ['_', '-', '!', \"'\", '(', ')', ',', '.', ':', ';', '?', ' ', 'A', 'B', 'C', 'D', 'E', 'F', 'G', 'H', 'I', 'J', 'K', 'L', 'M', 'N', 'O', 'P', 'Q', 'R', 'S', 'T', 'U', 'V', 'W', 'X', 'Y', 'Z', 'a', 'b', 'c', 'd', 'e', 'f', 'g', 'h', 'i', 'j', 'k', 'l', 'm', 'n', 'o', 'p', 'q', 'r', 's', 't', 'u', 'v', 'w', 'x', 'y', 'z', '@AA', '@AA0', '@AA1', '@AA2', '@AE', '@AE0', '@AE1', '@AE2', '@AH', '@AH0', '@AH1', '@AH2', '@AO', '@AO0', '@AO1', '@AO2', '@AW', '@AW0', '@AW1', '@AW2', '@AY', '@AY0', '@AY1', '@AY2', '@B', '@CH', '@D', '@DH', '@EH', '@EH0', '@EH1', '@EH2', '@ER', '@ER0', '@ER1', '@ER2', '@EY', '@EY0', '@EY1', '@EY2', '@F', '@G', '@HH', '@IH', '@IH0', '@IH1', '@IH2', '@IY', '@IY0', '@IY1', '@IY2', '@JH', '@K', '@L', '@M', '@N', '@NG', '@OW', '@OW0', '@OW1', '@OW2', '@OY', '@OY0', '@OY1', '@OY2', '@P', '@R', '@S', '@SH', '@T', '@TH', '@UH', '@UH0', '@UH1', '@UH2', '@UW', '@UW0', '@UW1', '@UW2', '@V', '@W', '@Y', '@Z', '@ZH', '@b', '@c', '@ch', '@d', '@f', '@g', '@h', '@j', '@k', '@l', '@m', '@n', '@p', '@q', '@r', '@s', '@sh', '@t', '@w', '@x', '@y', '@z', '@zh', '@a1', '@a2', '@a3', '@a4', '@a5', '@ai1', '@ai2', '@ai3', '@ai4', '@ai5', '@an1', '@an2', '@an3', '@an4', '@an5', '@ang1', '@ang2', '@ang3', '@ang4', '@ang5', '@ao1', '@ao2', '@ao3', '@ao4', '@ao5', '@e1', '@e2', '@e3', '@e4', '@e5', '@ei1', '@ei2', '@ei3', '@ei4', '@ei5', '@en1', '@en2', '@en3', '@en4', '@en5', '@eng1', '@eng2', '@eng3', '@eng4', '@eng5', '@er1', '@er2', '@er3', '@er4', '@er5', '@i1', '@i2', '@i3', '@i4', '@i5', '@ia1', '@ia2', '@ia3', '@ia4', '@ia5', '@ian1', '@ian2', '@ian3', '@ian4', '@ian5', '@iang1', '@iang2', '@iang3', '@iang4', '@iang5', '@iao1', '@iao2', '@iao3', '@iao4', '@iao5', '@ie1', '@ie2', '@ie3', '@ie4', '@ie5', '@ii1', '@ii2', '@ii3', '@ii4', '@ii5', '@iii1', '@iii2', '@iii3', '@iii4', '@iii5', '@in1', '@in2', '@in3', '@in4', '@in5', '@ing1', '@ing2', '@ing3', '@ing4', '@ing5', '@iong1', '@iong2', '@iong3', '@iong4', '@iong5', '@iou1', '@iou2', '@iou3', '@iou4', '@iou5', '@o1', '@o2', '@o3', '@o4', '@o5', '@ong1', '@ong2', '@ong3', '@ong4', '@ong5', '@ou1', '@ou2', '@ou3', '@ou4', '@ou5', '@u1', '@u2', '@u3', '@u4', '@u5', '@ua1', '@ua2', '@ua3', '@ua4', '@ua5', '@uai1', '@uai2', '@uai3', '@uai4', '@uai5', '@uan1', '@uan2', '@uan3', '@uan4', '@uan5', '@uang1', '@uang2', '@uang3', '@uang4', '@uang5', '@uei1', '@uei2', '@uei3', '@uei4', '@uei5', '@uen1', '@uen2', '@uen3', '@uen4', '@uen5', '@uo1', '@uo2', '@uo3', '@uo4', '@uo5', '@v1', '@v2', '@v3', '@v4', '@v5', '@van1', '@van2', '@van3', '@van4', '@van5', '@ve1', '@ve2', '@ve3', '@ve4', '@ve5', '@vn1', '@vn2', '@vn3', '@vn4', '@vn5', '@rr', '@sp', '@spn', '@sil']\n"
     ]
    }
   ],
   "source": [
    "import text"
   ]
  },
  {
   "cell_type": "code",
   "execution_count": 5,
   "metadata": {},
   "outputs": [
    {
     "data": {
      "text/plain": [
       "'Chao anh em nha'"
      ]
     },
     "execution_count": 5,
     "metadata": {},
     "output_type": "execute_result"
    }
   ],
   "source": [
    "from unidecode import unidecode\n",
    "t = 'Chào anh em nhá'\n",
    "t = unidecode(t)\n",
    "t"
   ]
  }
 ],
 "metadata": {
  "kernelspec": {
   "display_name": "TuanLHA",
   "language": "python",
   "name": "python3"
  },
  "language_info": {
   "codemirror_mode": {
    "name": "ipython",
    "version": 3
   },
   "file_extension": ".py",
   "mimetype": "text/x-python",
   "name": "python",
   "nbconvert_exporter": "python",
   "pygments_lexer": "ipython3",
   "version": "3.10.14"
  }
 },
 "nbformat": 4,
 "nbformat_minor": 2
}
