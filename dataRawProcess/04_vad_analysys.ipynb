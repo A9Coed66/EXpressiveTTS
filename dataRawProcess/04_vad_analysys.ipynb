{
 "cells": [
  {
   "cell_type": "code",
   "execution_count": 2,
   "metadata": {},
   "outputs": [
    {
     "name": "stderr",
     "output_type": "stream",
     "text": [
      "Downloading: \"https://github.com/snakers4/silero-vad/zipball/master\" to /home/tuanlha/.cache/torch/hub/master.zip\n"
     ]
    },
    {
     "data": {
      "text/plain": [
       "[{'start': 0, 'end': 74720},\n",
       " {'start': 76832, 'end': 202720},\n",
       " {'start': 205856, 'end': 242656},\n",
       " {'start': 244768, 'end': 281056},\n",
       " {'start': 284704, 'end': 364000},\n",
       " {'start': 370208, 'end': 531936},\n",
       " {'start': 533536, 'end': 647200}]"
      ]
     },
     "execution_count": 2,
     "metadata": {},
     "output_type": "execute_result"
    }
   ],
   "source": [
    "SAMPLING_RATE = 16000\n",
    "\n",
    "import torch\n",
    "torch.set_num_threads(1)\n",
    "from IPython.display import Audio\n",
    "from pprint import pprint\n",
    "import glob\n",
    "import os\n",
    "import librosa\n",
    "import argparse\n",
    "import csv\n",
    "from audio_processing.audio_utils import standardize_audio, save_sub_audio\n",
    "from utils.logger import Logger\n",
    "\n",
    "SAMPLING_RATE = 16000\n",
    "\n",
    "import torch\n",
    "torch.set_num_threads(1)\n",
    "from IPython.display import Audio\n",
    "from pprint import pprint\n",
    "import glob\n",
    "import os\n",
    "import librosa\n",
    "import argparse\n",
    "import csv\n",
    "from audio_processing.audio_utils import standardize_audio, save_sub_audio\n",
    "from utils.logger import Logger\n",
    "model, utils = torch.hub.load(repo_or_dir='snakers4/silero-vad',\n",
    "                              model='silero_vad',\n",
    "                              force_reload=True)\n",
    "(get_speech_timestamps, save_audio, read_audio, VADIterator, collect_chunks) = utils\n",
    "wav = read_audio('/home4/tuanlha/EXpressiveTTS/dataRawProcess/04_denoise/GameCucHay/01 Bản Tin BÓC PHỐT #167 ｜ MiHoYo Lại ＂LẤY CẢM HỨNG＂ & ＂Môn ＂ Nintendo Switch Vào Trường ｜ GCH News /SPEAKER_01_43.82_84.27.wav', sampling_rate = SAMPLING_RATE)\n",
    "speech_timestamps = get_speech_timestamps(wav, model, threshold=0.5, sampling_rate=SAMPLING_RATE)\n",
    "speech_timestamps"
   ]
  },
  {
   "cell_type": "code",
   "execution_count": 6,
   "metadata": {},
   "outputs": [],
   "source": [
    "sum = 0\n",
    "k = 0   \n",
    "speech_timestamps_mini = []\n",
    "mini_audio = []"
   ]
  },
  {
   "cell_type": "code",
   "execution_count": 7,
   "metadata": {},
   "outputs": [],
   "source": [
    "sum =  sum + speech_timestamps[k]['end'] - speech_timestamps[k]['start'] \n",
    "speech_timestamps_mini.append(speech_timestamps[k])\n"
   ]
  },
  {
   "cell_type": "code",
   "execution_count": 9,
   "metadata": {},
   "outputs": [
    {
     "data": {
      "text/plain": [
       "[tensor([-2.4197e-03,  6.8867e-04, -5.0664e-05,  ...,  8.9586e-05,\n",
       "          9.3484e-04,  1.5361e-03])]"
      ]
     },
     "execution_count": 9,
     "metadata": {},
     "output_type": "execute_result"
    }
   ],
   "source": [
    "mini_audio.append(collect_chunks(speech_timestamps_mini, wav))\n",
    "mini_audio"
   ]
  },
  {
   "cell_type": "code",
   "execution_count": 10,
   "metadata": {},
   "outputs": [
    {
     "data": {
      "text/plain": [
       "\"{'start': 0, 'end': 74720}\""
      ]
     },
     "execution_count": 10,
     "metadata": {},
     "output_type": "execute_result"
    }
   ],
   "source": [
    "timestamps = ', '.join(str(item) for item in speech_timestamps_mini)\n",
    "timestamps"
   ]
  },
  {
   "cell_type": "markdown",
   "metadata": {},
   "source": [
    "## Create sub audio"
   ]
  },
  {
   "cell_type": "code",
   "execution_count": 1,
   "metadata": {},
   "outputs": [],
   "source": [
    "import json\n",
    "import pandas as pd\n",
    "import numpy as np\n",
    "import os"
   ]
  },
  {
   "cell_type": "code",
   "execution_count": 2,
   "metadata": {},
   "outputs": [
    {
     "name": "stdout",
     "output_type": "stream",
     "text": [
      "[{'start': 544, 'end': 47072}]\n",
      "<class 'list'>\n",
      "[{'start': 4640, 'end': 43488}, {'start': 57376, 'end': 110560}, {'start': 112160, 'end': 146400}, {'start': 155168, 'end': 181760}]\n",
      "<class 'list'>\n",
      "[{'start': 544, 'end': 22080}]\n",
      "<class 'list'>\n",
      "[{'start': 1056, 'end': 45536}, {'start': 47136, 'end': 123680}]\n",
      "<class 'list'>\n",
      "[{'start': 1568, 'end': 35808}, {'start': 39968, 'end': 81376}, {'start': 89632, 'end': 118720}]\n",
      "<class 'list'>\n",
      "[{'start': 544, 'end': 26592}, {'start': 30240, 'end': 62944}, {'start': 68640, 'end': 99808}, {'start': 106016, 'end': 159200}, {'start': 164896, 'end': 215520}, {'start': 221216, 'end': 247264}, {'start': 251936, 'end': 301600}]\n",
      "<class 'list'>\n",
      "[{'start': 1056, 'end': 17376}, {'start': 21024, 'end': 62880}]\n",
      "<class 'list'>\n",
      "[{'start': 544, 'end': 21472}, {'start': 28192, 'end': 43201}]\n",
      "<class 'list'>\n",
      "[{'start': 544, 'end': 26240}]\n",
      "<class 'list'>\n",
      "[{'start': 1056, 'end': 33760}, {'start': 37920, 'end': 75232}, {'start': 80416, 'end': 101600}]\n",
      "<class 'list'>\n",
      "[{'start': 1056, 'end': 32639}]\n",
      "<class 'list'>\n",
      "[{'start': 544, 'end': 51168}, {'start': 56352, 'end': 94240}]\n",
      "<class 'list'>\n",
      "[{'start': 1568, 'end': 27104}, {'start': 31776, 'end': 59680}]\n",
      "<class 'list'>\n",
      "[{'start': 1568, 'end': 52192}, {'start': 57888, 'end': 83936}, {'start': 90144, 'end': 113120}]\n",
      "<class 'list'>\n",
      "[{'start': 1056, 'end': 23200}]\n",
      "<class 'list'>\n",
      "[{'start': 1568, 'end': 44000}, {'start': 49184, 'end': 97120}]\n",
      "<class 'list'>\n",
      "[{'start': 2080, 'end': 40928}, {'start': 44576, 'end': 62944}, {'start': 66080, 'end': 93760}]\n",
      "<class 'list'>\n",
      "[{'start': 2080, 'end': 34272}, {'start': 38944, 'end': 59360}, {'start': 64032, 'end': 75744}]\n",
      "<class 'list'>\n",
      "[{'start': 1056, 'end': 37344}, {'start': 41504, 'end': 59360}, {'start': 61472, 'end': 96736}, {'start': 100384, 'end': 134624}, {'start': 137760, 'end': 164480}]\n",
      "<class 'list'>\n",
      "[{'start': 544, 'end': 17888}]\n",
      "<class 'list'>\n",
      "[{'start': 1056, 'end': 42976}, {'start': 48672, 'end': 70624}, {'start': 72224, 'end': 93920}]\n",
      "<class 'list'>\n",
      "[{'start': 1056, 'end': 46560}, {'start': 50720, 'end': 79681}]\n",
      "<class 'list'>\n",
      "[{'start': 544, 'end': 18400}, {'start': 22560, 'end': 67040}, {'start': 73760, 'end': 89280}]\n",
      "<class 'list'>\n",
      "[{'start': 544, 'end': 56288}, {'start': 60960, 'end': 83936}, {'start': 89632, 'end': 133600}]\n",
      "<class 'list'>\n",
      "[{'start': 2080, 'end': 54752}, {'start': 59936, 'end': 103359}]\n",
      "<class 'list'>\n",
      "[{'start': 32, 'end': 49632}, {'start': 55840, 'end': 87008}, {'start': 88608, 'end': 121440}]\n",
      "<class 'list'>\n",
      "[{'start': 544, 'end': 26592}, {'start': 31776, 'end': 58336}, {'start': 61984, 'end': 118560}]\n",
      "<class 'list'>\n"
     ]
    }
   ],
   "source": [
    "df= pd.read_csv('/home4/tuanlha/EXpressiveTTS/dataRawProcess/04_vad_extract/BoVaGau/01 Lạm phát là gì？ Tại sao lạm phát lại đáng sợ？ .csv')\n",
    "ts = df['timestamps']\n",
    "for item in ts:\n",
    "    item = item.replace(\"'\", '\"')\n",
    "    item = json.loads(item)\n",
    "    print(item)\n",
    "    print(type(item))\n"
   ]
  },
  {
   "cell_type": "code",
   "execution_count": 6,
   "metadata": {},
   "outputs": [],
   "source": [
    "import soundfile as sf\n",
    "import os"
   ]
  },
  {
   "cell_type": "code",
   "execution_count": 7,
   "metadata": {},
   "outputs": [
    {
     "name": "stdout",
     "output_type": "stream",
     "text": [
      "SPEAKER_01_166.59_263.7\n"
     ]
    }
   ],
   "source": [
    "audio_path = '/home4/tuanlha/EXpressiveTTS/dataRawProcess/03_concat_audio/GameCucHay/01 Bản Tin BÓC PHỐT #167 ｜ MiHoYo Lại ＂LẤY CẢM HỨNG＂ & ＂Môn ＂ Nintendo Switch Vào Trường ｜ GCH News /SPEAKER_01_166.59_263.7.wav'\n",
    "basename = os.path.basename(audio_path).rsplit('.', 1)[0]\n",
    "print(basename)"
   ]
  },
  {
   "cell_type": "code",
   "execution_count": 8,
   "metadata": {},
   "outputs": [
    {
     "data": {
      "text/plain": [
       "(2330640,)"
      ]
     },
     "execution_count": 8,
     "metadata": {},
     "output_type": "execute_result"
    }
   ],
   "source": [
    "waveform, sample_rate = sf.read(audio_path)\n",
    "waveform.shape"
   ]
  }
 ],
 "metadata": {
  "kernelspec": {
   "display_name": "TuanLHA",
   "language": "python",
   "name": "python3"
  },
  "language_info": {
   "codemirror_mode": {
    "name": "ipython",
    "version": 3
   },
   "file_extension": ".py",
   "mimetype": "text/x-python",
   "name": "python",
   "nbconvert_exporter": "python",
   "pygments_lexer": "ipython3",
   "version": "3.10.16"
  }
 },
 "nbformat": 4,
 "nbformat_minor": 2
}
