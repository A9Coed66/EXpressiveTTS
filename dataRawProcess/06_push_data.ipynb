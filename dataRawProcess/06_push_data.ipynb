{
 "cells": [
  {
   "cell_type": "code",
   "execution_count": 1,
   "metadata": {},
   "outputs": [
    {
     "name": "stdout",
     "output_type": "stream",
     "text": [
      "Your browser has been opened to visit:\n",
      "\n",
      "    https://accounts.google.com/o/oauth2/auth?client_id=1014512554043-4ohovcmu2r6ahb7ucjr9p6f3i9ijmb7b.apps.googleusercontent.com&redirect_uri=http%3A%2F%2Flocalhost%3A8080%2F&scope=https%3A%2F%2Fwww.googleapis.com%2Fauth%2Fdrive&access_type=offline&response_type=code\n",
      "\n",
      "Authentication successful.\n"
     ]
    }
   ],
   "source": [
    "from pydrive.auth import GoogleAuth\n",
    "from pydrive.drive import GoogleDrive\n",
    "from oauth2client.client import GoogleCredentials\n",
    "\n",
    "gauth = GoogleAuth()\n",
    "gauth.LocalWebserverAuth()  # Mở trình duyệt để đăng nhập Google\n",
    "drive = GoogleDrive(gauth)"
   ]
  },
  {
   "cell_type": "code",
   "execution_count": 2,
   "metadata": {},
   "outputs": [],
   "source": [
    "speakers =  ['SPEAKER_160', 'SPEAKER_180', 'SPEAKER_185', 'SPEAKER_189', 'SPEAKER_191'\t, 'SPEAKER_193', 'SPEAKER_196', 'SPEAKER_202', 'SPEAKER_203', 'SPEAKER_204', 'SPEAKER_205', 'SPEAKER_206', 'SPEAKER_209', 'SPEAKER_210', 'SPEAKER_215', 'SPEAKER_217', 'SPEAKER_219', 'SPEAKER_221', 'SPEAKER_223', 'SPEAKER_224', 'SPEAKER_225', 'SPEAKER_229', 'SPEAKER_230', 'SPEAKER_232', 'SPEAKER_233', 'SPEAKER_236', 'SPEAKER_238', 'SPEAKER_241', 'SPEAKER_246', 'SPEAKER_247', 'SPEAKER_248', 'SPEAKER_253', 'SPEAKER_254', 'SPEAKER_255', 'SPEAKER_258', 'SPEAKER_259', 'SPEAKER_260', 'SPEAKER_658', 'SPEAKER_673', 'SPEAKER_18', 'SPEAKER_22']"
   ]
  },
  {
   "cell_type": "code",
   "execution_count": 3,
   "metadata": {},
   "outputs": [
    {
     "name": "stdout",
     "output_type": "stream",
     "text": [
      "Đã upload SPEAKER_160.zip vào thư mục VLSP2025\n",
      "Đã upload SPEAKER_180.zip vào thư mục VLSP2025\n",
      "Đã upload SPEAKER_185.zip vào thư mục VLSP2025\n",
      "Đã upload SPEAKER_189.zip vào thư mục VLSP2025\n",
      "Đã upload SPEAKER_191.zip vào thư mục VLSP2025\n",
      "Đã upload SPEAKER_193.zip vào thư mục VLSP2025\n",
      "Đã upload SPEAKER_196.zip vào thư mục VLSP2025\n",
      "Đã upload SPEAKER_202.zip vào thư mục VLSP2025\n",
      "Đã upload SPEAKER_203.zip vào thư mục VLSP2025\n",
      "Đã upload SPEAKER_204.zip vào thư mục VLSP2025\n",
      "Đã upload SPEAKER_205.zip vào thư mục VLSP2025\n",
      "Đã upload SPEAKER_206.zip vào thư mục VLSP2025\n",
      "Đã upload SPEAKER_209.zip vào thư mục VLSP2025\n",
      "Đã upload SPEAKER_210.zip vào thư mục VLSP2025\n",
      "Đã upload SPEAKER_215.zip vào thư mục VLSP2025\n",
      "Đã upload SPEAKER_217.zip vào thư mục VLSP2025\n",
      "Đã upload SPEAKER_219.zip vào thư mục VLSP2025\n",
      "Đã upload SPEAKER_221.zip vào thư mục VLSP2025\n",
      "Đã upload SPEAKER_223.zip vào thư mục VLSP2025\n",
      "Đã upload SPEAKER_224.zip vào thư mục VLSP2025\n",
      "Đã upload SPEAKER_225.zip vào thư mục VLSP2025\n",
      "Đã upload SPEAKER_229.zip vào thư mục VLSP2025\n",
      "Đã upload SPEAKER_230.zip vào thư mục VLSP2025\n",
      "Đã upload SPEAKER_232.zip vào thư mục VLSP2025\n",
      "Đã upload SPEAKER_233.zip vào thư mục VLSP2025\n",
      "Đã upload SPEAKER_236.zip vào thư mục VLSP2025\n",
      "Đã upload SPEAKER_238.zip vào thư mục VLSP2025\n",
      "Đã upload SPEAKER_241.zip vào thư mục VLSP2025\n",
      "Đã upload SPEAKER_246.zip vào thư mục VLSP2025\n",
      "Đã upload SPEAKER_247.zip vào thư mục VLSP2025\n",
      "Đã upload SPEAKER_248.zip vào thư mục VLSP2025\n",
      "Đã upload SPEAKER_253.zip vào thư mục VLSP2025\n",
      "Đã upload SPEAKER_254.zip vào thư mục VLSP2025\n",
      "Đã upload SPEAKER_255.zip vào thư mục VLSP2025\n",
      "Đã upload SPEAKER_258.zip vào thư mục VLSP2025\n",
      "Đã upload SPEAKER_259.zip vào thư mục VLSP2025\n",
      "Đã upload SPEAKER_260.zip vào thư mục VLSP2025\n",
      "Đã upload SPEAKER_658.zip vào thư mục VLSP2025\n",
      "Đã upload SPEAKER_673.zip vào thư mục VLSP2025\n",
      "Đã upload SPEAKER_18.zip vào thư mục VLSP2025\n",
      "Đã upload SPEAKER_22.zip vào thư mục VLSP2025\n"
     ]
    }
   ],
   "source": [
    "import shutil\n",
    "import os\n",
    "\n",
    "# Thay bằng ID thư mục VLSP2025 của bạn\n",
    "folder_id = 'VLSP2025_Bonus'\n",
    "data_path = '/home4/tuanlha/EXpressiveTTS/dataRawProcess/__Final_data3'\n",
    "for speaker in speakers:\n",
    "    if os.path.isdir(os.path.join(data_path, speaker)):\n",
    "        zip_name = f\"{speaker}.zip\"\n",
    "        shutil.make_archive(speaker, 'zip', os.path.join(data_path, speaker))\n",
    "        \n",
    "        # Upload file zip vào thư mục VLSP2025\n",
    "        upload_file = drive.CreateFile({\n",
    "            'title': zip_name,\n",
    "            'parents': [{'id': '1sVuP21XsYU57YJNbgLzvs15TAgdPC1Ht'}]\n",
    "        })\n",
    "        upload_file.SetContentFile(zip_name)\n",
    "        upload_file.Upload()\n",
    "        print(f\"Đã upload {zip_name} vào thư mục VLSP2025\")\n",
    "    else:\n",
    "        print(f\"Thư mục {speaker} không tồn tại, bỏ qua upload.\")"
   ]
  }
 ],
 "metadata": {
  "kernelspec": {
   "display_name": "TuanLHA",
   "language": "python",
   "name": "python3"
  },
  "language_info": {
   "codemirror_mode": {
    "name": "ipython",
    "version": 3
   },
   "file_extension": ".py",
   "mimetype": "text/x-python",
   "name": "python",
   "nbconvert_exporter": "python",
   "pygments_lexer": "ipython3",
   "version": "3.10.16"
  }
 },
 "nbformat": 4,
 "nbformat_minor": 2
}
