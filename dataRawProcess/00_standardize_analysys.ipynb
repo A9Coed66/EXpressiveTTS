{
 "cells": [
  {
   "cell_type": "code",
   "execution_count": 4,
   "metadata": {},
   "outputs": [],
   "source": [
    "import matplotlib.pyplot as plt\n",
    "import numpy as np\n",
    "from pydub import AudioSegment\n",
    "import librosa\n",
    "import librosa.display\n",
    "import os\n",
    "NORMALIZE_VOLUME =4 \n",
    "def standardize(audio):\n",
    "    \"\"\"\n",
    "    Preprocess audio file, including setting sample rate, bit depth, channels, and volume normalization.\n",
    "\n",
    "    Args:\n",
    "        audio (str or AudioSegment): Audio file path or AudioSegment object, the audio to be preprocessed.\n",
    "\n",
    "    Returns:\n",
    "        dict: A dictionary containing the preprocessed audio waveform, audio file name, and sample rate, formatted as:\n",
    "              {\n",
    "                  \"waveform\": np.ndarray, the preprocessed audio waveform, dtype is np.float32, shape is (num_samples,)\n",
    "                  \"name\": str, the audio base name\n",
    "              }\n",
    "\n",
    "    Raises:\n",
    "        ValueError: If the audio parameter is neither a str nor an AudioSegment.\n",
    "    \"\"\"\n",
    "\n",
    "    # global audio_count\n",
    "    name = \"audio\"\n",
    "\n",
    "    if isinstance(audio, str):\n",
    "        name = os.path.basename(audio)\n",
    "        audio = AudioSegment.from_file(audio)\n",
    "    else:\n",
    "        raise ValueError(\"Invalid audio type\")\n",
    "\n",
    "    # Convert the audio file to WAV format\n",
    "    audio = (audio.set_frame_rate(24000)).set_sample_width(2).set_channels(1)\n",
    "\n",
    "    # Calculate the gain to be applied\n",
    "    target_dBFS = -20\n",
    "    gain = target_dBFS - audio.dBFS\n",
    "    print(f\"Calculating the gain needed for the audio: {gain} dB\")\n",
    "\n",
    "    # Normalize volume and limit gain range to between -3 and 3\n",
    "    normalized_audio = audio.apply_gain(min(max(gain, -NORMALIZE_VOLUME), NORMALIZE_VOLUME))\n",
    "\n",
    "    waveform = np.array(normalized_audio.get_array_of_samples(), dtype=np.float32)\n",
    "    max_amplitude = np.max(np.abs(waveform))\n",
    "    waveform /= max_amplitude  # Normalize\n",
    "    return {\n",
    "        \"waveform\": waveform,\n",
    "        \"name\": name\n",
    "    }"
   ]
  }
 ],
 "metadata": {
  "kernelspec": {
   "display_name": "TuanLHA",
   "language": "python",
   "name": "python3"
  },
  "language_info": {
   "codemirror_mode": {
    "name": "ipython",
    "version": 3
   },
   "file_extension": ".py",
   "mimetype": "text/x-python",
   "name": "python",
   "nbconvert_exporter": "python",
   "pygments_lexer": "ipython3",
   "version": "3.10.16"
  }
 },
 "nbformat": 4,
 "nbformat_minor": 2
}
